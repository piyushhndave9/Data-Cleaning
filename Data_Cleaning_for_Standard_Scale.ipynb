{
  "nbformat": 4,
  "nbformat_minor": 0,
  "metadata": {
    "colab": {
      "name": "Data Cleaning for Standard Scale.ipynb",
      "provenance": [],
      "collapsed_sections": []
    },
    "kernelspec": {
      "name": "python3",
      "display_name": "Python 3"
    }
  },
  "cells": [
    {
      "cell_type": "markdown",
      "metadata": {
        "id": "RHaWf71GTOlh"
      },
      "source": [
        "#Important Libraries"
      ]
    },
    {
      "cell_type": "code",
      "metadata": {
        "id": "Pcg5dFuXRLLv"
      },
      "source": [
        "import numpy as np   # Numerical Data \n",
        "import pandas as pd   # Data Analysis # CSV file \n",
        "import matplotlib.pyplot as plt   # Data Visua\n",
        "import seaborn as sn  # Data Visua"
      ],
      "execution_count": null,
      "outputs": []
    },
    {
      "cell_type": "markdown",
      "metadata": {
        "id": "tWV2ZYTITUPB"
      },
      "source": [
        "# Read Data"
      ]
    },
    {
      "cell_type": "code",
      "metadata": {
        "id": "NKSSfnvpRbww"
      },
      "source": [
        "df = pd.read_csv('diabetes.csv')   #data read "
      ],
      "execution_count": null,
      "outputs": []
    },
    {
      "cell_type": "markdown",
      "metadata": {
        "id": "66HVRG_XkZ8L"
      },
      "source": [
        "#Data Cleaning"
      ]
    },
    {
      "cell_type": "code",
      "metadata": {
        "id": "HdkNBfJSd5gy"
      },
      "source": [
        "df.describe()"
      ],
      "execution_count": null,
      "outputs": []
    },
    {
      "cell_type": "markdown",
      "metadata": {
        "id": "MkOLxyq3k-us"
      },
      "source": [
        "Can minimum value of below listed columns be zero (0)?\n",
        "\n",
        "On these columns, a value of zero does not make sense and thus indicates missing value.\n",
        "\n",
        "Following columns or variables have an invalid zero value:\n",
        "\n",
        "#Glucose\n",
        "#BloodPressure\n",
        "#SkinThickness\n",
        "#Insulin\n",
        "#BMI"
      ]
    },
    {
      "cell_type": "markdown",
      "metadata": {
        "id": "dMasMDdClfrA"
      },
      "source": [
        "#It is better to replace zeros with nan since after that counting them would be easier and zeros need to be replaced with suitable values"
      ]
    },
    {
      "cell_type": "code",
      "metadata": {
        "id": "X5bd8hNEd5kC"
      },
      "source": [
        "df_copy = df.copy(deep = True)\n",
        "df_copy[['Glucose','BloodPressure','SkinThickness','Insulin','BMI']]=df_copy[['Glucose','BloodPressure','SkinThickness','Insulin','BMI']].replace(0,np.NaN)"
      ],
      "execution_count": null,
      "outputs": []
    },
    {
      "cell_type": "code",
      "metadata": {
        "id": "ZyPsQ81Ld5nR"
      },
      "source": [
        "df_copy.isnull().sum()"
      ],
      "execution_count": null,
      "outputs": []
    },
    {
      "cell_type": "code",
      "metadata": {
        "id": "25qaiTRXojlc"
      },
      "source": [
        "df_copy.describe()"
      ],
      "execution_count": null,
      "outputs": []
    },
    {
      "cell_type": "code",
      "metadata": {
        "id": "x3kb1yntomvP"
      },
      "source": [
        "df_copy.info()"
      ],
      "execution_count": null,
      "outputs": []
    },
    {
      "cell_type": "code",
      "metadata": {
        "id": "kJsN2BOBRmYf"
      },
      "source": [
        "df_copy['Glucose'].fillna(df_copy['Glucose'].mean(), inplace = True)"
      ],
      "execution_count": null,
      "outputs": []
    },
    {
      "cell_type": "code",
      "source": [
        "df_copy"
      ],
      "metadata": {
        "id": "Lhsr3XTzGXwP"
      },
      "execution_count": null,
      "outputs": []
    },
    {
      "cell_type": "code",
      "source": [
        "df_copy.info()"
      ],
      "metadata": {
        "id": "ZS6MxhWrGc-d"
      },
      "execution_count": null,
      "outputs": []
    },
    {
      "cell_type": "code",
      "metadata": {
        "id": "TpqMzFs2oiqF"
      },
      "source": [
        "df_copy['BloodPressure'].fillna(df_copy['BloodPressure'].mean(), inplace = True)"
      ],
      "execution_count": null,
      "outputs": []
    },
    {
      "cell_type": "code",
      "metadata": {
        "id": "u_3Dy9Q0oitD"
      },
      "source": [
        "df_copy['SkinThickness'].fillna(df_copy['SkinThickness'].median(), inplace = True)"
      ],
      "execution_count": null,
      "outputs": []
    },
    {
      "cell_type": "code",
      "metadata": {
        "id": "SZEWtka8oiwJ"
      },
      "source": [
        "df_copy['Insulin'].fillna(df_copy['Insulin'].median(), inplace = True)"
      ],
      "execution_count": null,
      "outputs": []
    },
    {
      "cell_type": "code",
      "metadata": {
        "id": "Sd0zl5sDoiym"
      },
      "source": [
        "df_copy['BMI'].fillna(df_copy['BMI'].median(), inplace = True)"
      ],
      "execution_count": null,
      "outputs": []
    },
    {
      "cell_type": "code",
      "metadata": {
        "id": "QMq03l3Vu1Se"
      },
      "source": [
        "df_copy.info()"
      ],
      "execution_count": null,
      "outputs": []
    },
    {
      "cell_type": "markdown",
      "metadata": {
        "id": "WyN-EoQH6t5y"
      },
      "source": [
        "If there is a dataset that have great outliers, \n",
        "I'll prefer median. \n",
        "E.x.: 99% of household income is below 100, and 1% is above 500.\n",
        "\n",
        "On the other hand, \n",
        "if we work with wear of clothes that customers give to dry-cleaner \n",
        "(assuming that dry-cleaners' operators fill this field intuitively), \n",
        "I'll fill missings with mean value of wear."
      ]
    },
    {
      "cell_type": "code",
      "metadata": {
        "id": "TSOyIwjWBPOi"
      },
      "source": [
        "sn.boxplot(x='BMI',data=df_copy)\n",
        "plt.show()"
      ],
      "execution_count": null,
      "outputs": []
    },
    {
      "cell_type": "code",
      "metadata": {
        "id": "eJJjgZOm6gJr"
      },
      "source": [
        "df_copy.describe()"
      ],
      "execution_count": null,
      "outputs": []
    },
    {
      "cell_type": "markdown",
      "metadata": {
        "id": "6lA6PJq-A_Jy"
      },
      "source": [
        "#Scaling the data\n",
        "#Outlier!!! The Silent Killer"
      ]
    },
    {
      "cell_type": "code",
      "metadata": {
        "id": "utU2-JcOB6N9"
      },
      "source": [
        "df_copy.columns"
      ],
      "execution_count": null,
      "outputs": []
    },
    {
      "cell_type": "code",
      "metadata": {
        "id": "R1lwXutkBJs1"
      },
      "source": [
        "sn.boxplot(x='Outcome', y='BMI',data=df_copy)\n",
        "plt.show()"
      ],
      "execution_count": null,
      "outputs": []
    },
    {
      "cell_type": "code",
      "metadata": {
        "id": "jdBxgnorA9B6"
      },
      "source": [
        "sn.boxplot(x='Outcome', y='Insulin',data=df_copy)\n",
        "plt.show()"
      ],
      "execution_count": null,
      "outputs": []
    },
    {
      "cell_type": "code",
      "metadata": {
        "id": "3Hd7VagxEooE"
      },
      "source": [
        "from sklearn.preprocessing import StandardScaler\n",
        "scaler = StandardScaler()"
      ],
      "execution_count": null,
      "outputs": []
    },
    {
      "cell_type": "code",
      "metadata": {
        "id": "pGQw2M9cErZb"
      },
      "source": [
        "scaler.fit(df_copy.drop('Outcome',axis=1))"
      ],
      "execution_count": null,
      "outputs": []
    },
    {
      "cell_type": "code",
      "metadata": {
        "id": "un81RRPDNJ20"
      },
      "source": [
        "scaled_features = scaler.transform(df.drop('Outcome',axis=1))"
      ],
      "execution_count": null,
      "outputs": []
    },
    {
      "cell_type": "code",
      "metadata": {
        "id": "TlozEUg6NVPT"
      },
      "source": [
        "scaled_features"
      ],
      "execution_count": null,
      "outputs": []
    },
    {
      "cell_type": "code",
      "metadata": {
        "id": "JXmQExoCNYMs"
      },
      "source": [
        "df_feat = pd.DataFrame(scaled_features,columns=df.columns[:-1])\n",
        "df_feat.head(100)"
      ],
      "execution_count": null,
      "outputs": []
    },
    {
      "cell_type": "code",
      "metadata": {
        "id": "eyq9akv4O05D"
      },
      "source": [
        "df_feat['Outcome']= df['Outcome']"
      ],
      "execution_count": null,
      "outputs": []
    },
    {
      "cell_type": "code",
      "metadata": {
        "id": "zr_9878-PYWV"
      },
      "source": [
        "df_feat.head()"
      ],
      "execution_count": null,
      "outputs": []
    },
    {
      "cell_type": "code",
      "metadata": {
        "id": "cp30dAG2MPAC"
      },
      "source": [
        "sn.boxplot(x='Outcome',y='Insulin',data=df_feat)\n",
        "plt.show()"
      ],
      "execution_count": null,
      "outputs": []
    },
    {
      "cell_type": "code",
      "metadata": {
        "id": "x9cmbxLNQjKC"
      },
      "source": [
        "sn.boxplot(x='Outcome', y='BMI',data=df_feat)\n",
        "plt.show()"
      ],
      "execution_count": null,
      "outputs": []
    }
  ]
}